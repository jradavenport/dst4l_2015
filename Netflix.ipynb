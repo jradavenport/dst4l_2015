{
 "metadata": {
  "name": "",
  "signature": "sha256:334bd429ac1c8113271ab027f03fb26702ecc7784e2963ea3807903940bd5d1a"
 },
 "nbformat": 3,
 "nbformat_minor": 0,
 "worksheets": [
  {
   "cells": [
    {
     "cell_type": "code",
     "collapsed": false,
     "input": [
      "import numpy as np\n",
      "import matplotlib.pylab as plt\n",
      "from matplotlib import cm\n",
      "%matplotlib inline\n",
      "import datetime\n",
      "import time\n",
      "import dateutil"
     ],
     "language": "python",
     "metadata": {},
     "outputs": []
    },
    {
     "cell_type": "code",
     "collapsed": false,
     "input": [
      "file = 'davenport_netflix_data.txt'"
     ],
     "language": "python",
     "metadata": {},
     "outputs": []
    },
    {
     "cell_type": "code",
     "collapsed": false,
     "input": [
      "data = np.loadtxt(file, unpack=True, usecols=(0,), delimiter='\\t', dtype='string')\n",
      "\n",
      "data\n",
      "\n",
      "# I looked up Jan 3, 2009: a Saturday"
     ],
     "language": "python",
     "metadata": {},
     "outputs": []
    },
    {
     "cell_type": "code",
     "collapsed": false,
     "input": [
      "date_s = []\n",
      "\n",
      "for k in data:\n",
      "    date_s.append(time.mktime(dateutil.parser.parse(k).timetuple()))"
     ],
     "language": "python",
     "metadata": {},
     "outputs": []
    },
    {
     "cell_type": "code",
     "collapsed": false,
     "input": [
      "date_s.sort()\n",
      "\n",
      "date = np.array(date_s, dtype='float')"
     ],
     "language": "python",
     "metadata": {},
     "outputs": []
    },
    {
     "cell_type": "code",
     "collapsed": false,
     "input": [
      "plt.plot((date-min(date))/60./60./24./365., np.arange(len(date))+1)\n",
      "plt.xlabel('Years since [3 Jan 2009]')\n",
      "plt.ylabel('# of Videos Watched')"
     ],
     "language": "python",
     "metadata": {},
     "outputs": []
    },
    {
     "cell_type": "markdown",
     "metadata": {},
     "source": [
      "# Data by Day of the Week"
     ]
    },
    {
     "cell_type": "code",
     "collapsed": false,
     "input": [
      "h = plt.hist(((date-min(date))/60./60./24.+6) % 7, bins=np.arange(0,8,1))"
     ],
     "language": "python",
     "metadata": {},
     "outputs": []
    },
    {
     "cell_type": "code",
     "collapsed": false,
     "input": [
      "h2, xi, yi = plt.histogram2d((date-min(date))/60./60./24./365., \n",
      "                             ((date-min(date))/60./60./24.+6) % 7,bins=(100,7))\n",
      "\n",
      "plt.figure(figsize=(15,4))\n",
      "plt.imshow(np.log10(h2.T+1), origin='lower', interpolation='nearest',cmap=cm.BuPu,\n",
      "           extent=(np.min(xi),np.max(xi),np.min(yi),np.max(yi)), aspect=0.3)\n",
      "plt.colorbar()"
     ],
     "language": "python",
     "metadata": {},
     "outputs": []
    },
    {
     "cell_type": "markdown",
     "metadata": {},
     "source": [
      "# Data By Month"
     ]
    },
    {
     "cell_type": "code",
     "collapsed": false,
     "input": [
      "date_s = []\n",
      "\n",
      "for k in data:\n",
      "    date_s.append(time.mktime(dateutil.parser.parse(k).timetuple()))\n",
      "date = np.array(date_s, dtype='float')\n",
      "\n",
      "mo,dd,yr = np.loadtxt(data,delimiter='/',unpack=True)\n",
      "data[0]"
     ],
     "language": "python",
     "metadata": {},
     "outputs": []
    },
    {
     "cell_type": "code",
     "collapsed": false,
     "input": [
      "hw = plt.hist(mo, bins=np.arange(0,13,.5))"
     ],
     "language": "python",
     "metadata": {},
     "outputs": []
    },
    {
     "cell_type": "code",
     "collapsed": false,
     "input": [
      "h2, xi, yi = plt.histogram2d(yr, mo,bins=(7,12))\n",
      "\n",
      "plt.figure(figsize=(15,5))\n",
      "plt.imshow(np.log10(h2.T+1), origin='lower', interpolation='nearest',cmap=cm.BuPu,\n",
      "           extent=(np.min(xi),np.max(xi),np.min(yi),np.max(yi)), aspect=0.4)\n",
      "plt.colorbar()"
     ],
     "language": "python",
     "metadata": {},
     "outputs": []
    },
    {
     "cell_type": "code",
     "collapsed": false,
     "input": [],
     "language": "python",
     "metadata": {},
     "outputs": []
    }
   ],
   "metadata": {}
  }
 ]
}