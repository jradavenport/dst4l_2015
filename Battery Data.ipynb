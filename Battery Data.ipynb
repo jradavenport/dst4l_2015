{
 "metadata": {
  "name": "",
  "signature": "sha256:58e3f717ada4e0fa76972513a50204776970367e861a51f80ff39d3947f7898e"
 },
 "nbformat": 3,
 "nbformat_minor": 0,
 "worksheets": [
  {
   "cells": [
    {
     "cell_type": "code",
     "collapsed": false,
     "input": [
      "import numpy as np\n",
      "import matplotlib.pylab as plt\n",
      "from matplotlib import cm\n",
      "%matplotlib inline\n",
      "import datetime\n",
      "import time\n",
      "import dateutil"
     ],
     "language": "python",
     "metadata": {},
     "outputs": []
    },
    {
     "cell_type": "markdown",
     "metadata": {},
     "source": [
      "#First: just deal with timestamps (ignore battery)"
     ]
    },
    {
     "cell_type": "code",
     "collapsed": false,
     "input": [
      "file = 'batlog_fuji.dat'\n",
      "\n",
      "# let's just read in the dates for now from this file\n",
      "d = open(file, 'r')\n",
      "\n",
      "date = [] # this will be the list of dates\n",
      "dateraw = []\n",
      "while True:\n",
      "    # read in each line\n",
      "    theline = d.readline()\n",
      "    if (len(theline) == 0):\n",
      "        break\n",
      "    # use only the lines that have a date in them\n",
      "    if (theline[0:3] != '   '):\n",
      "        # add to list, strip off the trailing \\n\n",
      "        tmp = theline.strip()\n",
      "        dateraw.append(tmp)\n",
      "        # here i'm trying different ways to parse the timestamp\n",
      "        # split the tmp up, b/c strptime doesn't understand timezones correctly\n",
      "        #x = time.strptime( tmp[0:20]+tmp[24:], '%a %b %d %H:%M:%S %Y')\n",
      "        #x = datetime.datetime.strptime( tmp[0:20]+tmp[24:], '%a %b %d %H:%M:%S %Y').timetuple()\n",
      "\n",
      "        x = dateutil.parser.parse(tmp[0:20]+tmp[24:]).timetuple()\n",
      "        date.append(time.mktime(x)/60./60./24.)\n",
      "d.close()"
     ],
     "language": "python",
     "metadata": {},
     "outputs": []
    },
    {
     "cell_type": "code",
     "collapsed": false,
     "input": [
      "print('I have used my computer for ' +str(len(date))+' minutes,')\n",
      "print('or ' +str(len(date)/60./24.)+' days!')"
     ],
     "language": "python",
     "metadata": {},
     "outputs": []
    },
    {
     "cell_type": "code",
     "collapsed": false,
     "input": [
      "print(dateraw[0])\n",
      "print(day[0], day[0] % 1)"
     ],
     "language": "python",
     "metadata": {},
     "outputs": []
    },
    {
     "cell_type": "code",
     "collapsed": false,
     "input": [
      "day = np.array(date, dtype='float')\n",
      "timeofday = ((day-5/24.) % 1)*24\n",
      "\n",
      "plt.figure(figsize=(7,5))\n",
      "plt.plot(day-min(day),timeofday,'k,',alpha=0.5)\n",
      "\n",
      "# pick the range of @MSR and before"
     ],
     "language": "python",
     "metadata": {},
     "outputs": []
    },
    {
     "cell_type": "code",
     "collapsed": false,
     "input": [
      "plt.hist(timeofday,bins=np.arange(0,25,1))\n",
      "plt.xlabel('Hour')\n",
      "plt.ylabel('# of Datapoints')\n",
      "\n",
      "r1 = np.where((day-min(day)<310)) # normal use\n",
      "r2 = np.where((day-min(day)>=310))# while I was at MSR\n",
      "plt.hist(timeofday[r1],bins=np.arange(0,25,1)) \n",
      "plt.hist(timeofday[r2],bins=np.arange(0,25,1))\n"
     ],
     "language": "python",
     "metadata": {},
     "outputs": []
    },
    {
     "cell_type": "code",
     "collapsed": false,
     "input": [
      "dayofweek = (day-3) % 7 \n",
      "print(dateraw[10000], dayofweek[10000])\n",
      "\n",
      "hist = plt.hist(dayofweek, bins=np.arange(0,8,1./24.) )"
     ],
     "language": "python",
     "metadata": {},
     "outputs": []
    },
    {
     "cell_type": "markdown",
     "metadata": {},
     "source": [
      "#Now let's think about the battery data too!"
     ]
    },
    {
     "cell_type": "code",
     "collapsed": false,
     "input": [
      "# now let's read in the dates and the battery charge from this file\n",
      "d = open(file, 'r')\n",
      "\n",
      "date = [] # this will be the list of dates\n",
      "dateraw = []\n",
      "chrg = []\n",
      "capc = []\n",
      "while True:\n",
      "    # read in each line\n",
      "    theline = d.readline()\n",
      "    if (len(theline) == 0):\n",
      "        break\n",
      "    # use only the lines that have a date in them\n",
      "    if (theline[0:3] != '   '):\n",
      "        # add to list, strip off the trailing \\n\n",
      "        tmp = theline.strip()\n",
      "        x = dateutil.parser.parse(tmp).timetuple()\n",
      "\n",
      "    if ((theline[0:3] == '   ') & \n",
      "        (theline[19:26] == 'MaxCapa')):\n",
      "        captmp = theline[34:].strip()\n",
      "\n",
      "    if ((theline[0:3] == '   ') & \n",
      "        (theline[19:26] == 'Current')):\n",
      "        chrg.append(theline[38:].strip())\n",
      "        capc.append(captmp)\n",
      "        \n",
      "        dateraw.append(tmp)\n",
      "        date.append(time.mktime(x)/60./60./24.)\n",
      "\n",
      "d.close()\n"
     ],
     "language": "python",
     "metadata": {},
     "outputs": []
    },
    {
     "cell_type": "code",
     "collapsed": false,
     "input": [
      "# setup some variables to plot\n",
      "charge = np.array(chrg, dtype='float')\n",
      "capacity = np.array(capc, dtype='float')\n",
      "day = np.array(date, dtype='float')\n",
      "timeofday = ((day-7/24.) % 1)*24\n",
      "\n",
      "maxchrg = 6700. # on this particular laptop\n"
     ],
     "language": "python",
     "metadata": {},
     "outputs": []
    },
    {
     "cell_type": "code",
     "collapsed": false,
     "input": [
      "plt.plot(charge) #vs date?, as percent?"
     ],
     "language": "python",
     "metadata": {},
     "outputs": []
    },
    {
     "cell_type": "code",
     "collapsed": false,
     "input": [
      "# change size, make dots?\n",
      "plt.plot(day-min(day),capacity/maxchrg)\n",
      "plt.ylim((.8,1))\n",
      "plt.ylabel('Battery Capacity')\n",
      "plt.xlabel('Days')"
     ],
     "language": "python",
     "metadata": {},
     "outputs": []
    },
    {
     "cell_type": "code",
     "collapsed": false,
     "input": [
      "# make bigger, set xlim, labels \n",
      "plt.figure(figsize=(8,4))\n",
      "plt.scatter(day-min(day),timeofday, c=charge, edgecolor='none',\n",
      "            marker='.',cmap=cm.Spectral)\n",
      "plt.ylim((0,24))\n",
      "#plt.xlim((0,50))\n",
      "plt.colorbar()"
     ],
     "language": "python",
     "metadata": {},
     "outputs": []
    },
    {
     "cell_type": "code",
     "collapsed": false,
     "input": [],
     "language": "python",
     "metadata": {},
     "outputs": []
    }
   ],
   "metadata": {}
  }
 ]
}